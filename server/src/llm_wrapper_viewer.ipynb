{
 "cells": [
  {
   "cell_type": "markdown",
   "metadata": {},
   "source": [
    "# Because Apollo is expensive"
   ]
  },
  {
   "cell_type": "code",
   "execution_count": 1,
   "metadata": {},
   "outputs": [
    {
     "data": {
      "text/plain": [
       "True"
      ]
     },
     "execution_count": 1,
     "metadata": {},
     "output_type": "execute_result"
    }
   ],
   "source": [
    "from llm_wrapper import CompanyInfo\n",
    "import os\n",
    "from dotenv import load_dotenv  # Import load_dotenv from dotenv\n",
    "\n",
    "# Load environment variables from .env file\n",
    "load_dotenv()"
   ]
  },
  {
   "cell_type": "code",
   "execution_count": 2,
   "metadata": {},
   "outputs": [],
   "source": [
    "\n",
    "\n",
    "company = CompanyInfo(\"sambanova systems\")\n",
    "company.get_apollo_data(os.getenv('APOLLO_API_KEY'))"
   ]
  },
  {
   "cell_type": "code",
   "execution_count": 3,
   "metadata": {},
   "outputs": [],
   "source": [
    "\n",
    "company.get_company_leaders(os.getenv('APOLLO_API_KEY'))\n"
   ]
  },
  {
   "cell_type": "code",
   "execution_count": 4,
   "metadata": {},
   "outputs": [],
   "source": [
    "\n",
    "company.extract_sitemap()\n",
    "company.get_important_pages()\n",
    "company.download_and_parse_pages_selfmade()\n"
   ]
  },
  {
   "cell_type": "code",
   "execution_count": 5,
   "metadata": {},
   "outputs": [],
   "source": [
    "company.analyze_with_llm(os.getenv('OPENAI_API_KEY'))"
   ]
  },
  {
   "cell_type": "code",
   "execution_count": 6,
   "metadata": {},
   "outputs": [
    {
     "name": "stdout",
     "output_type": "stream",
     "text": [
      "SambaNova Systems is a technology company that offers an AI platform designed to be the backbone for AI innovation over the next decade. Their main products include the SambaNova Suite, a full-stack platform built specifically for generative AI, and DataScale, a platform for generative AI development and innovation. They also provide custom models, computer vision, and a fast API for high-speed inferencing. Their technology spans from chips to models, aiming to deliver an enterprise-grade full stack platform for generative AI. The company's mission is to help customers deploy state-of-the-art AI and deep learning capabilities to outcompete their peers. Unique selling points include their enterprise-grade full stack platform and their 1T+ parameter models with high accuracy.\n"
     ]
    }
   ],
   "source": [
    "print(company.company_summary)"
   ]
  },
  {
   "cell_type": "code",
   "execution_count": 7,
   "metadata": {},
   "outputs": [
    {
     "name": "stdout",
     "output_type": "stream",
     "text": [
      "\"Driving Next-Generation AI Innovation\"\n"
     ]
    }
   ],
   "source": [
    "print(company.company_tagline)"
   ]
  },
  {
   "cell_type": "code",
   "execution_count": 8,
   "metadata": {},
   "outputs": [
    {
     "name": "stdout",
     "output_type": "stream",
     "text": [
      "\n",
      "Apollo Data:\n",
      "Name: SambaNova Systems\n",
      "Website: http://www.sambanova.ai\n",
      "Industry: computer hardware\n",
      "Employee Count: None\n",
      "\n",
      "Sitemap URLs:\n",
      "https://sambanova.ai/ja/press/sambanova-systems-and-scaleworx-enter-historic-partnership-to-drive-artificial-intelligence-adoption-and-applications-in-asia\n",
      "https://sambanova.ai/press/sambanova-continues-executive-leadership-team-expansion-with-the-addition-of-poonacha-kongetira-as-vp-of-hardware\n",
      "https://sambanova.ai/events/stac-summit-1-jun-2022-nyc\n",
      "https://sambanova.ai/press/over-half-of-global-business-leaders-believe-investing-in-ai-will-give-them-a-competitive-advantage\n",
      "https://sambanova.ai/ja/about/company\n",
      "... and 820 more\n",
      "\n",
      "Company Leaders:\n",
      "- Rodrigo Liang: Co-Founder & CEO\n",
      "- Marshall Choy: Senior Vice President, Product\n",
      "- Ravi Jha: Vice President of Global Supply Chain\n",
      "- Chad Gardner: SambaNova Systems Vice President Sales - North America\n",
      "- Richard Halkett: Chief Revenue Officer (CRO) & Chief Customer Officer\n",
      "- Urmish Thakker: Director of Machine Learning\n",
      "- Peter Buckingham: VP of Software Engineering\n",
      "- Anton McGonnell: Head of SW Products\n",
      "- Vijay Tatkar: Director\n",
      "- Kate Binversie: Principal People Partner\n"
     ]
    }
   ],
   "source": [
    "\n",
    "company.display_info()"
   ]
  },
  {
   "cell_type": "code",
   "execution_count": 9,
   "metadata": {},
   "outputs": [],
   "source": [
    "# linkedin_urls = company.get_linkedin_profiles(5)  # Get top 5 leaders' LinkedIn profiles\n",
    "# company.analyze_linkedin_profiles(linkedin_urls, os.getenv('OPENAI_API_KEY'))"
   ]
  },
  {
   "cell_type": "code",
   "execution_count": 10,
   "metadata": {},
   "outputs": [],
   "source": [
    "# print(linkedin_urls)"
   ]
  },
  {
   "cell_type": "code",
   "execution_count": 11,
   "metadata": {},
   "outputs": [
    {
     "name": "stdout",
     "output_type": "stream",
     "text": [
      "https://zenprospect-production.s3.amazonaws.com/uploads/pictures/66436ec1c88f23000146f71d/picture\n"
     ]
    }
   ],
   "source": [
    "print(company.apollo_data.get('organizations', [{}])[0].get('logo_url'))"
   ]
  },
  {
   "cell_type": "code",
   "execution_count": 12,
   "metadata": {},
   "outputs": [
    {
     "name": "stdout",
     "output_type": "stream",
     "text": [
      "Co-Founder & CEO at SambaNova Systems\n",
      "SVP, Product\n",
      "Supply Chain & Operations Executive\n",
      "SambaNova Systems Vice President Sales - North America\n",
      "Ex-Amazon, ex-Cisco technology executive; Chief Revenue Officer & Chief Customer Officer, SambaNova Systems\n",
      "Director of ML (Applied LLM, Foundation LLM and LLM Infrastructure) | 30 Under 30\n",
      "Engineering & Product Leader | CTO | VPE\n",
      "Product leader @ SambaNova\n",
      "Director,  Partner  at SambaNova Systems\n",
      "Global HR Leader | SHRM-SCP | People Development | Change Catalyst | Pepperdine MSOD Candidate\n"
     ]
    }
   ],
   "source": [
    "for i in range(10):\n",
    "  print(company.company_leaders[i].get('headline'))"
   ]
  }
 ],
 "metadata": {
  "kernelspec": {
   "display_name": "Python 3",
   "language": "python",
   "name": "python3"
  },
  "language_info": {
   "codemirror_mode": {
    "name": "ipython",
    "version": 3
   },
   "file_extension": ".py",
   "mimetype": "text/x-python",
   "name": "python",
   "nbconvert_exporter": "python",
   "pygments_lexer": "ipython3",
   "version": "3.11.9"
  }
 },
 "nbformat": 4,
 "nbformat_minor": 2
}
